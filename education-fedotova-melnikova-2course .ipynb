{
 "cells": [
  {
   "cell_type": "markdown",
   "metadata": {},
   "source": [
    "# Education Analysis"
   ]
  },
  {
   "cell_type": "markdown",
   "metadata": {},
   "source": [
    "## Введение"
   ]
  },
  {
   "cell_type": "markdown",
   "metadata": {},
   "source": [
    "#### Цель проекта"
   ]
  },
  {
   "cell_type": "markdown",
   "metadata": {},
   "source": [
    "Проект направлен на изучение влияния демографических и семейных особенностей на академическую успеваемость учеников. \n",
    "Входные данные состоят практически 6000 записей студентов из двух школ Белуджистана, провинции Пакистана. Модель будет принимать информацию о различных характеристиках учеников и прогнозировать результат экзамена. В этом проекте будут использованы различные классификаторы, такие как деревья решений, логистическая регрессия, K-ближайшие соседи, случайный лес для целей классификации."
   ]
  },
  {
   "cell_type": "markdown",
   "metadata": {},
   "source": [
    "#### Имеющиеся признаки"
   ]
  },
  {
   "cell_type": "markdown",
   "metadata": {},
   "source": [
    "Признак | Описание\n",
    ":--------|:---------\n",
    "Gender Code| 0 - мужской пол, 1 -женский\n",
    "IntBrothers | Количество братьев \n",
    "IntSisters | Количество сестер\n",
    "IntSchoolBrothers | Количество братьев, учащихся в той же школе\n",
    "IntSchoolSisters | Количество сестер, учащихся в той же школе\n",
    "ClassSchoolStatus | 0 или 1 в зависимости от школы (всего 2 школы)\n",
    "Disability | 0 - отстутствие инвалидности, 1 - инвалидность\n",
    "Lang1 | 0 - ученик говорит на этом языке, 1 - не говорит\n",
    "Lang2 | 0 - ученик говорит на этом языке, 1 - не говорит\n",
    "Lang3 | 0 - ученик говорит на этом языке, 1 - не говорит\n",
    "Lang4 | 0 - ученик говорит на этом языке, 1 - не говорит"
   ]
  },
  {
   "cell_type": "markdown",
   "metadata": {},
   "source": [
    "#### Предсказываемый признак"
   ]
  },
  {
   "cell_type": "markdown",
   "metadata": {},
   "source": [
    "Признак | Описание\n",
    ":--------|:---------\n",
    "RESULT| FAIL - экзамен не сдан, PASS - экзамен сдан"
   ]
  },
  {
   "cell_type": "markdown",
   "metadata": {},
   "source": [
    "#### Ознакомление с данными"
   ]
  },
  {
   "cell_type": "code",
   "execution_count": 34,
   "metadata": {},
   "outputs": [],
   "source": [
    "# Импортируем библиотеки\n",
    "import pandas as pd\n",
    "import numpy as np\n",
    "import matplotlib.pyplot as plt\n",
    "pd.options.mode.chained_assignment = None "
   ]
  },
  {
   "cell_type": "code",
   "execution_count": 51,
   "metadata": {},
   "outputs": [
    {
     "data": {
      "text/html": [
       "<div>\n",
       "<style scoped>\n",
       "    .dataframe tbody tr th:only-of-type {\n",
       "        vertical-align: middle;\n",
       "    }\n",
       "\n",
       "    .dataframe tbody tr th {\n",
       "        vertical-align: top;\n",
       "    }\n",
       "\n",
       "    .dataframe thead th {\n",
       "        text-align: right;\n",
       "    }\n",
       "</style>\n",
       "<table border=\"1\" class=\"dataframe\">\n",
       "  <thead>\n",
       "    <tr style=\"text-align: right;\">\n",
       "      <th></th>\n",
       "      <th>Gender</th>\n",
       "      <th>IntBrothers</th>\n",
       "      <th>IntSisters</th>\n",
       "      <th>IntSchoolBrothers</th>\n",
       "      <th>IntSchoolSisters</th>\n",
       "      <th>ClassSchoolStatus</th>\n",
       "      <th>Disability</th>\n",
       "      <th>Lang1</th>\n",
       "      <th>Lang2</th>\n",
       "      <th>Lang3</th>\n",
       "      <th>Lang4</th>\n",
       "      <th>Religion</th>\n",
       "      <th>Result</th>\n",
       "    </tr>\n",
       "  </thead>\n",
       "  <tbody>\n",
       "    <tr>\n",
       "      <td>0</td>\n",
       "      <td>0</td>\n",
       "      <td>3</td>\n",
       "      <td>3</td>\n",
       "      <td>3</td>\n",
       "      <td>2</td>\n",
       "      <td>1</td>\n",
       "      <td>0</td>\n",
       "      <td>1</td>\n",
       "      <td>0</td>\n",
       "      <td>0</td>\n",
       "      <td>0</td>\n",
       "      <td>1</td>\n",
       "      <td>FAIL</td>\n",
       "    </tr>\n",
       "    <tr>\n",
       "      <td>1</td>\n",
       "      <td>0</td>\n",
       "      <td>4</td>\n",
       "      <td>5</td>\n",
       "      <td>1</td>\n",
       "      <td>1</td>\n",
       "      <td>1</td>\n",
       "      <td>0</td>\n",
       "      <td>1</td>\n",
       "      <td>0</td>\n",
       "      <td>0</td>\n",
       "      <td>0</td>\n",
       "      <td>1</td>\n",
       "      <td>PASS</td>\n",
       "    </tr>\n",
       "    <tr>\n",
       "      <td>2</td>\n",
       "      <td>0</td>\n",
       "      <td>5</td>\n",
       "      <td>3</td>\n",
       "      <td>0</td>\n",
       "      <td>0</td>\n",
       "      <td>1</td>\n",
       "      <td>0</td>\n",
       "      <td>1</td>\n",
       "      <td>0</td>\n",
       "      <td>0</td>\n",
       "      <td>0</td>\n",
       "      <td>1</td>\n",
       "      <td>PASS</td>\n",
       "    </tr>\n",
       "    <tr>\n",
       "      <td>3</td>\n",
       "      <td>0</td>\n",
       "      <td>2</td>\n",
       "      <td>4</td>\n",
       "      <td>1</td>\n",
       "      <td>4</td>\n",
       "      <td>1</td>\n",
       "      <td>0</td>\n",
       "      <td>1</td>\n",
       "      <td>0</td>\n",
       "      <td>0</td>\n",
       "      <td>0</td>\n",
       "      <td>1</td>\n",
       "      <td>PASS</td>\n",
       "    </tr>\n",
       "    <tr>\n",
       "      <td>4</td>\n",
       "      <td>0</td>\n",
       "      <td>2</td>\n",
       "      <td>1</td>\n",
       "      <td>0</td>\n",
       "      <td>0</td>\n",
       "      <td>1</td>\n",
       "      <td>0</td>\n",
       "      <td>1</td>\n",
       "      <td>0</td>\n",
       "      <td>0</td>\n",
       "      <td>0</td>\n",
       "      <td>1</td>\n",
       "      <td>FAIL</td>\n",
       "    </tr>\n",
       "  </tbody>\n",
       "</table>\n",
       "</div>"
      ],
      "text/plain": [
       "   Gender  IntBrothers  IntSisters  IntSchoolBrothers  IntSchoolSisters  \\\n",
       "0       0            3           3                  3                 2   \n",
       "1       0            4           5                  1                 1   \n",
       "2       0            5           3                  0                 0   \n",
       "3       0            2           4                  1                 4   \n",
       "4       0            2           1                  0                 0   \n",
       "\n",
       "   ClassSchoolStatus  Disability  Lang1  Lang2  Lang3  Lang4  Religion Result  \n",
       "0                  1           0      1      0      0      0         1   FAIL  \n",
       "1                  1           0      1      0      0      0         1   PASS  \n",
       "2                  1           0      1      0      0      0         1   PASS  \n",
       "3                  1           0      1      0      0      0         1   PASS  \n",
       "4                  1           0      1      0      0      0         1   FAIL  "
      ]
     },
     "execution_count": 51,
     "metadata": {},
     "output_type": "execute_result"
    }
   ],
   "source": [
    "# Считаем данные\n",
    "df = pd.read_excel('Data.xlsx')\n",
    "\n",
    "# Удалим два ненужных столбца\n",
    "df.drop('VchMotherTounge', axis=1, inplace =True)\n",
    "df.drop('MotherTongueBin', axis=1, inplace =True)\n",
    "\n",
    "# Переименуем столбцы для удобства\n",
    "df.rename({'Disability01': 'Disability', 'RESULT': 'Result', 'GenderCode': 'Gender'}, axis=1, inplace=True)\n",
    "\n",
    "df.head()"
   ]
  },
  {
   "cell_type": "code",
   "execution_count": 53,
   "metadata": {},
   "outputs": [
    {
     "name": "stdout",
     "output_type": "stream",
     "text": [
      "<class 'pandas.core.frame.DataFrame'>\n",
      "RangeIndex: 5609 entries, 0 to 5608\n",
      "Data columns (total 13 columns):\n",
      "Gender               5609 non-null int64\n",
      "IntBrothers          5609 non-null int64\n",
      "IntSisters           5609 non-null int64\n",
      "IntSchoolBrothers    5609 non-null int64\n",
      "IntSchoolSisters     5609 non-null int64\n",
      "ClassSchoolStatus    5609 non-null int64\n",
      "Disability           5609 non-null int64\n",
      "Lang1                5609 non-null int64\n",
      "Lang2                5609 non-null int64\n",
      "Lang3                5609 non-null int64\n",
      "Lang4                5609 non-null int64\n",
      "Religion             5609 non-null int64\n",
      "Result               5609 non-null object\n",
      "dtypes: int64(12), object(1)\n",
      "memory usage: 569.8+ KB\n"
     ]
    }
   ],
   "source": [
    "# Посмотрим информацию о столбцах\n",
    "df.info()"
   ]
  },
  {
   "cell_type": "markdown",
   "metadata": {},
   "source": [
    "Обзор показал, что входной набор состоит из 5609 строк и пропущенные значения отстутствуют. Следовательно, нам не нужна предварительная обработка пропущенных значений для анализа."
   ]
  },
  {
   "cell_type": "markdown",
   "metadata": {},
   "source": [
    "## Анализ признаков"
   ]
  },
  {
   "cell_type": "markdown",
   "metadata": {},
   "source": [
    "#### Начало работы с данными"
   ]
  },
  {
   "cell_type": "code",
   "execution_count": 38,
   "metadata": {},
   "outputs": [
    {
     "data": {
      "text/html": [
       "<div>\n",
       "<style scoped>\n",
       "    .dataframe tbody tr th:only-of-type {\n",
       "        vertical-align: middle;\n",
       "    }\n",
       "\n",
       "    .dataframe tbody tr th {\n",
       "        vertical-align: top;\n",
       "    }\n",
       "\n",
       "    .dataframe thead th {\n",
       "        text-align: right;\n",
       "    }\n",
       "</style>\n",
       "<table border=\"1\" class=\"dataframe\">\n",
       "  <thead>\n",
       "    <tr style=\"text-align: right;\">\n",
       "      <th></th>\n",
       "      <th>GenderCode</th>\n",
       "      <th>IntBrothers</th>\n",
       "      <th>IntSisters</th>\n",
       "      <th>IntSchoolBrothers</th>\n",
       "      <th>IntSchoolSisters</th>\n",
       "      <th>ClassSchoolStatus</th>\n",
       "      <th>Disability01</th>\n",
       "      <th>Lang1</th>\n",
       "      <th>Lang2</th>\n",
       "      <th>Lang3</th>\n",
       "      <th>Lang4</th>\n",
       "      <th>Religion</th>\n",
       "    </tr>\n",
       "  </thead>\n",
       "  <tbody>\n",
       "    <tr>\n",
       "      <td>0</td>\n",
       "      <td>0</td>\n",
       "      <td>3</td>\n",
       "      <td>3</td>\n",
       "      <td>3</td>\n",
       "      <td>2</td>\n",
       "      <td>1</td>\n",
       "      <td>0</td>\n",
       "      <td>1</td>\n",
       "      <td>0</td>\n",
       "      <td>0</td>\n",
       "      <td>0</td>\n",
       "      <td>1</td>\n",
       "    </tr>\n",
       "    <tr>\n",
       "      <td>1</td>\n",
       "      <td>0</td>\n",
       "      <td>4</td>\n",
       "      <td>5</td>\n",
       "      <td>1</td>\n",
       "      <td>1</td>\n",
       "      <td>1</td>\n",
       "      <td>0</td>\n",
       "      <td>1</td>\n",
       "      <td>0</td>\n",
       "      <td>0</td>\n",
       "      <td>0</td>\n",
       "      <td>1</td>\n",
       "    </tr>\n",
       "    <tr>\n",
       "      <td>2</td>\n",
       "      <td>0</td>\n",
       "      <td>5</td>\n",
       "      <td>3</td>\n",
       "      <td>0</td>\n",
       "      <td>0</td>\n",
       "      <td>1</td>\n",
       "      <td>0</td>\n",
       "      <td>1</td>\n",
       "      <td>0</td>\n",
       "      <td>0</td>\n",
       "      <td>0</td>\n",
       "      <td>1</td>\n",
       "    </tr>\n",
       "    <tr>\n",
       "      <td>3</td>\n",
       "      <td>0</td>\n",
       "      <td>2</td>\n",
       "      <td>4</td>\n",
       "      <td>1</td>\n",
       "      <td>4</td>\n",
       "      <td>1</td>\n",
       "      <td>0</td>\n",
       "      <td>1</td>\n",
       "      <td>0</td>\n",
       "      <td>0</td>\n",
       "      <td>0</td>\n",
       "      <td>1</td>\n",
       "    </tr>\n",
       "    <tr>\n",
       "      <td>4</td>\n",
       "      <td>0</td>\n",
       "      <td>2</td>\n",
       "      <td>1</td>\n",
       "      <td>0</td>\n",
       "      <td>0</td>\n",
       "      <td>1</td>\n",
       "      <td>0</td>\n",
       "      <td>1</td>\n",
       "      <td>0</td>\n",
       "      <td>0</td>\n",
       "      <td>0</td>\n",
       "      <td>1</td>\n",
       "    </tr>\n",
       "  </tbody>\n",
       "</table>\n",
       "</div>"
      ],
      "text/plain": [
       "   GenderCode  IntBrothers  IntSisters  IntSchoolBrothers  IntSchoolSisters  \\\n",
       "0           0            3           3                  3                 2   \n",
       "1           0            4           5                  1                 1   \n",
       "2           0            5           3                  0                 0   \n",
       "3           0            2           4                  1                 4   \n",
       "4           0            2           1                  0                 0   \n",
       "\n",
       "   ClassSchoolStatus  Disability01  Lang1  Lang2  Lang3  Lang4  Religion  \n",
       "0                  1             0      1      0      0      0         1  \n",
       "1                  1             0      1      0      0      0         1  \n",
       "2                  1             0      1      0      0      0         1  \n",
       "3                  1             0      1      0      0      0         1  \n",
       "4                  1             0      1      0      0      0         1  "
      ]
     },
     "metadata": {},
     "output_type": "display_data"
    },
    {
     "data": {
      "text/plain": [
       "0    0\n",
       "1    1\n",
       "2    1\n",
       "3    1\n",
       "4    0\n",
       "Name: RESULT, dtype: int32"
      ]
     },
     "metadata": {},
     "output_type": "display_data"
    }
   ],
   "source": [
    "# Разделим данные на входные (x) и выходные (y)\n",
    "X = df.iloc[:,:12]\n",
    "y = df.iloc[:, 12]\n",
    "# Заменим FAIL и PASS на 0 и 1 соответственно\n",
    "y[y == 'PASS'] = 1\n",
    "y[y == 'FAIL'] = 0\n",
    "y = y.astype(int)\n",
    "\n",
    "display(X.head())\n",
    "display(y.head())"
   ]
  },
  {
   "cell_type": "code",
   "execution_count": null,
   "metadata": {},
   "outputs": [],
   "source": []
  }
 ],
 "metadata": {
  "kernelspec": {
   "display_name": "Python 3",
   "language": "python",
   "name": "python3"
  },
  "language_info": {
   "codemirror_mode": {
    "name": "ipython",
    "version": 3
   },
   "file_extension": ".py",
   "mimetype": "text/x-python",
   "name": "python",
   "nbconvert_exporter": "python",
   "pygments_lexer": "ipython3",
   "version": "3.7.4"
  }
 },
 "nbformat": 4,
 "nbformat_minor": 2
}
